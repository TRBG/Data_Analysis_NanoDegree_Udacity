{
 "cells": [
  {
   "cell_type": "markdown",
   "metadata": {},
   "source": [
    "# An Analysis of Tmdb Movie Database - Profitability Trends\n",
    "\n",
    "## Table of Contents\n",
    "<ul>\n",
    "<li><a href=\"#intro\">Introduction</a></li>\n",
    "<li><a href=\"#wrangling\">Data Wrangling</a></li>\n",
    "<li><a href=\"#eda\">Exploratory Data Analysis</a></li>\n",
    "<li><a href=\"#conclusions\">Conclusions</a></li>\n",
    "</ul>"
   ]
  },
  {
   "cell_type": "markdown",
   "metadata": {},
   "source": [
    "<a id='intro'></a>\n",
    "## Introduction\n",
    "\n",
    "In this project I analyze the Imdb data set. I wanted to explore the profitability of movies and see if there is any correlations between the profitability of a movie and its budget or genre and how the profitability is mapped over the years.\n",
    "\n",
    "The following are the packages that I will use:\n"
   ]
  },
  {
   "cell_type": "code",
   "execution_count": null,
   "metadata": {},
   "outputs": [],
   "source": [
    "# Theimport statements for all of the packages that we\n",
    "# plan to use.\n",
    "\n",
    "import numpy as np                  # numpy version 1.16.2\n",
    "import pandas as pd                 # pandas version 0.24.2\n",
    "import matplotlib.pyplot as plt     # matplotlib version 3.0.3\n",
    "import seaborn as sns               # seaborn version 0.9.0\n",
    "%matplotlib inline\n"
   ]
  },
  {
   "cell_type": "markdown",
   "metadata": {},
   "source": [
    "<a id='wrangling'></a>\n",
    "## Data Wrangling\n",
    "\n",
    "As it is stated in the discribtion presented on kaggle.com to introduce the datasets, this dataset has been cleaned. However, I wanted to explore any anomalies. So I explored the data as shown below.\n",
    "\n",
    "I explored the data in general, its shape, summarized statisitcs, and general info.\n",
    "\n",
    "I discovered that there are several movies with a budget that is equal to 0 dollars. I removed those from the data set as my analysis depends on seeing trends between the budget and revenue of movies.\n",
    "\n",
    "I also used the adjusted budget and revenues as the numbers there are universal and useful to compare movies over the years (taking inflation into consideration).\n",
    "\n",
    "### General Properties"
   ]
  },
  {
   "cell_type": "code",
   "execution_count": null,
   "metadata": {
    "scrolled": true
   },
   "outputs": [],
   "source": [
    "# Loading the data and printing out a few lines. We also Performed operations to inspect data\n",
    "#    types and look for instances of missing or possibly errant data. The data is stored in the file:\n",
    "#    \"tmdb-movies.csv\"\n",
    "\n",
    "df = pd.read_csv('tmdb-movies.csv')\n",
    "df.head()\n"
   ]
  },
  {
   "cell_type": "code",
   "execution_count": null,
   "metadata": {},
   "outputs": [],
   "source": [
    "df.shape"
   ]
  },
  {
   "cell_type": "code",
   "execution_count": null,
   "metadata": {
    "scrolled": true
   },
   "outputs": [],
   "source": [
    "df.describe()"
   ]
  },
  {
   "cell_type": "code",
   "execution_count": null,
   "metadata": {
    "scrolled": false
   },
   "outputs": [],
   "source": [
    "df.info()"
   ]
  },
  {
   "cell_type": "markdown",
   "metadata": {},
   "source": [
    "### Data Cleaning I: Removing Columns of no Interest\n",
    "\n",
    "I removed several columns of my dataset as I was not interested in them for my main analysis"
   ]
  },
  {
   "cell_type": "code",
   "execution_count": null,
   "metadata": {
    "scrolled": true
   },
   "outputs": [],
   "source": [
    "df.drop(['id','imdb_id'],axis = 1, inplace=True)"
   ]
  },
  {
   "cell_type": "code",
   "execution_count": null,
   "metadata": {},
   "outputs": [],
   "source": [
    "df.drop(['original_title','cast','director','tagline','keywords','overview'],axis = 1, inplace=True)"
   ]
  },
  {
   "cell_type": "markdown",
   "metadata": {},
   "source": [
    "### Data Cleaning II: Removing Movies with a Budget = 0 Dollars\n",
    "I then removed all the entries with a reported budget of 0 dollars as I am interested to compare the budget to revenue.\n",
    "I then extracted the summarized statisitcs of my dataset to make sure that all movies has a budget"
   ]
  },
  {
   "cell_type": "code",
   "execution_count": null,
   "metadata": {},
   "outputs": [],
   "source": [
    "df = df[df.budget != 0]"
   ]
  },
  {
   "cell_type": "code",
   "execution_count": null,
   "metadata": {},
   "outputs": [],
   "source": [
    "df.describe()"
   ]
  },
  {
   "cell_type": "markdown",
   "metadata": {},
   "source": [
    "<a id='eda'></a>\n",
    "## Exploratory Data Analysis\n",
    "\n",
    "### Is the budget correlated with the profitability of a movie\n",
    "In this section I analyze whther the budget affect the profitability of a movie\n",
    "\n",
    "I divided the movies into 4 categories:\n",
    "\n",
    "1. Highly profitable where the revenue is more than 8 times the budget.\n",
    "2. Reasonably profitable where the revenue is between 2 times and 8 times the budget of a movie.\n",
    "3. Barely priftable where the revenue is more than the budget but less than twice the budget.\n",
    "4. a movie that did not turn any profit\n",
    "\n",
    "I then calculated the mean of the budget of the movies in these 4 categories.\n",
    "I also plotted the histograms of the 4 categories over the budget to see if there is a correlation between profitability and the budget."
   ]
  },
  {
   "cell_type": "code",
   "execution_count": null,
   "metadata": {},
   "outputs": [],
   "source": [
    "hihgly_proft = df.revenue_adj >= 5*df.budget_adj\n",
    "reasonably_profit = (df.revenue_adj >= 2*df.budget_adj) & (df.revenue_adj < 5*df.budget_adj)\n",
    "barely_profit = (df.revenue_adj > df.budget_adj) & (df.revenue_adj < 2*df.budget_adj)\n",
    "lost = df.revenue_adj < df.budget_adj"
   ]
  },
  {
   "cell_type": "code",
   "execution_count": null,
   "metadata": {},
   "outputs": [],
   "source": [
    "\"{:,}\".format(int(df.budget_adj[hihgly_proft].mean()))"
   ]
  },
  {
   "cell_type": "code",
   "execution_count": null,
   "metadata": {},
   "outputs": [],
   "source": [
    "\"{:,}\".format(int(df.budget_adj[reasonably_profit].mean()))"
   ]
  },
  {
   "cell_type": "code",
   "execution_count": null,
   "metadata": {},
   "outputs": [],
   "source": [
    "\"{:,}\".format(int(df.budget_adj[barely_profit].mean()))"
   ]
  },
  {
   "cell_type": "code",
   "execution_count": null,
   "metadata": {},
   "outputs": [],
   "source": [
    "\"{:,}\".format(int(df.budget_adj[lost].mean()))"
   ]
  },
  {
   "cell_type": "code",
   "execution_count": null,
   "metadata": {},
   "outputs": [],
   "source": [
    "df.budget_adj[hihgly_proft].plot.hist(xlim=(10**4,2*10**8),figsize=(20,10),alpha = 0.5,bins = 50, label='Highly Profitable')\n",
    "df.budget_adj[reasonably_profit].plot.hist(xlim=(10**4,2*10**8),figsize=(20,10),alpha = 0.5, bins = 50, label='Reasonably Profitable')\n",
    "df.budget_adj[barely_profit].plot.hist(xlim=(10**4,2*10**8),figsize=(20,10), alpha = 0.5,bins = 50, label='Barely Profitable')\n",
    "df.budget_adj[lost].plot.hist(xlim=(10**4,2*10**8),figsize=(20,10), alpha = 0.5,bins = 50, label='Lost')\n",
    "plt.legend();"
   ]
  },
  {
   "cell_type": "markdown",
   "metadata": {},
   "source": [
    "Then I analyzed the revenue not as a multiple of the budget but as a wehole number with the following categories:\n",
    "1) Huge profit where a movie profit is higher than 100 Million Dollars.\n",
    "2) Big profit where a movie profit is more than 10 Million Dollars but less than 100 Million.\n",
    "3) Small profit where a movie profit is more than 1 Million Dollars but less than 10 Million.\n",
    "4) A losing movie turning no profit\n",
    "\n",
    "For this analysis I focused on movies with a commercial budget of 1 Million Dollars or above."
   ]
  },
  {
   "cell_type": "code",
   "execution_count": null,
   "metadata": {},
   "outputs": [],
   "source": [
    "huge_proft = (df.revenue_adj - df.budget_adj) >= 10**8\n",
    "big_profit = ((df.revenue_adj - df.budget_adj) >= 10**7)  & ((df.revenue_adj - df.budget_adj) < 10**8)\n",
    "small_profit = ((df.revenue_adj - df.budget_adj) >= 10**6) & ((df.revenue_adj - df.budget_adj) < 10**7)\n",
    "lost_2 = (df.revenue_adj - df.budget_adj) <= 0"
   ]
  },
  {
   "cell_type": "code",
   "execution_count": null,
   "metadata": {},
   "outputs": [],
   "source": [
    "df.budget_adj[huge_proft].plot.hist(xlim=(10**6,2*10**8),figsize=(20,10),alpha = 0.5,bins = 100, label='Profit > 100 Million')\n",
    "df.budget_adj[big_profit].plot.hist(xlim=(10**6,2*10**8),figsize=(20,10),alpha = 0.5,bins = 100, label='100 Million > Profit > 10 Million')\n",
    "df.budget_adj[small_profit].plot.hist(ylim=(0,250),xlim=(10**6,2*10**8),figsize=(20,10), alpha = 0.5,bins = 100, label='Profit betwwen 1 & 10 Million')\n",
    "df.budget_adj[lost_2].plot.hist(ylim=(0,250),xlim=(10**6,2*10**8),figsize=(20,10), alpha = 0.5,bins = 100, label='Lost money')\n",
    "plt.legend();"
   ]
  },
  {
   "cell_type": "markdown",
   "metadata": {},
   "source": [
    "### Is the profitability correlated with the genre\n",
    "\n",
    "I analyzed the count of movies per the main genre of the movie (the 1st genre in the list of genres in the genre column). I plotted the count of movies that secured profits higher than 100 Million Dollars and the count of movies that lost money. In this analysis, I focused on movies with a budget over a million dollar (highly commercial movies)."
   ]
  },
  {
   "cell_type": "code",
   "execution_count": null,
   "metadata": {
    "scrolled": true
   },
   "outputs": [],
   "source": [
    "df_commercial = df[df.budget_adj >= 10**6]"
   ]
  },
  {
   "cell_type": "code",
   "execution_count": null,
   "metadata": {
    "scrolled": true
   },
   "outputs": [],
   "source": [
    "df_commercial.genres = df_commercial.genres.str.split('|').str[0].str.strip()"
   ]
  },
  {
   "cell_type": "code",
   "execution_count": null,
   "metadata": {},
   "outputs": [],
   "source": [
    "df_commercial.head()"
   ]
  },
  {
   "cell_type": "code",
   "execution_count": null,
   "metadata": {
    "scrolled": true
   },
   "outputs": [],
   "source": [
    "df_commercial_huge_profit = df_commercial[(df_commercial.revenue_adj - df_commercial.budget_adj) >= 10**8]\n",
    "df_commercial_huge_profit.groupby('genres').budget_adj.count().plot(figsize=(20,10),kind = 'bar',label='The Number of Movies',grid='True')\n",
    "plt.legend();"
   ]
  },
  {
   "cell_type": "code",
   "execution_count": null,
   "metadata": {},
   "outputs": [],
   "source": [
    "df_commercial_lost= df_commercial[(df_commercial.revenue_adj - df_commercial.budget_adj) < 0]\n",
    "df_commercial_lost.groupby('genres').budget_adj.count().plot(figsize=(20,10),kind = 'bar',label='The Number of Movies',grid='True')\n",
    "plt.legend();"
   ]
  },
  {
   "cell_type": "markdown",
   "metadata": {},
   "source": [
    "In this last analysis, I wanted to see the count of movies in the 4 categories on the sam bar plot to see if profitability is correlated to genre"
   ]
  },
  {
   "cell_type": "code",
   "execution_count": null,
   "metadata": {},
   "outputs": [],
   "source": [
    "huge_proft2 = (df_commercial.revenue_adj - df_commercial.budget_adj) >= 10**8\n",
    "big_profit2 = ((df_commercial.revenue_adj - df_commercial.budget_adj) >= 10**7)  & ((df_commercial.revenue_adj - df_commercial.budget_adj) < 10**8)\n",
    "small_profit2 = ((df_commercial.revenue_adj - df_commercial.budget_adj) >= 10**6) & ((df_commercial.revenue_adj - df_commercial.budget_adj) < 10**7)\n",
    "lost_3 = (df_commercial.revenue_adj - df_commercial.budget_adj) <= 0"
   ]
  },
  {
   "cell_type": "code",
   "execution_count": null,
   "metadata": {},
   "outputs": [],
   "source": [
    "df_commercial.genres[lost_3].value_counts().plot(figsize=(20,10),kind = 'bar',label='Lost',grid='True',color=('red'))\n",
    "df_commercial.genres[big_profit2].value_counts().plot(figsize=(20,10),kind = 'bar',label='100 Million > Profit > 10 Million',grid='True',color=('green'))\n",
    "df_commercial.genres[huge_proft2].value_counts().plot(figsize=(20,10),kind = 'bar',label='Profit > 100 Million',grid='True',color=('blue'))\n",
    "plt.legend();"
   ]
  },
  {
   "cell_type": "markdown",
   "metadata": {},
   "source": [
    "<a id='conclusions'></a>\n",
    "## Conclusions\n",
    "\n",
    "### Profit Vs. Budget\n",
    "\n",
    "In the analysis seen above, we can see that there is no clear correlation between the budget of a movie and how profitable it will be. However, we can also see that as the budget exceeds 100 Million dollars, the probability of securing a profit of more than 100 Million dollars becomes more than 50%.\n",
    "\n",
    "### Profit Vs. Genre\n",
    "\n",
    "We can also see fromt the anlaysis of profitability vs. genre that for the most common genres the chance of profitability is not that high compared to some uncommon genres such Thriller where the chance of profitability far exceeds 50%.\n",
    "\n",
    "### Reveneue & Budget Over The Years\n",
    "\n",
    "In the plot below, we can see a very interesting observation: the amount of money spent on movies (adjusted for inflation) has not seen many ups and downs and has been relatively flat for the past 30 or so years whereas the revenues fluctuated more steeply over the same period."
   ]
  },
  {
   "cell_type": "code",
   "execution_count": null,
   "metadata": {
    "scrolled": true
   },
   "outputs": [],
   "source": [
    "df_commercial = df[df.budget_adj >= 10**6]\n",
    "\n",
    "df_commercial.groupby('release_year').revenue_adj.mean().plot(xlim=(1960,2015),figsize=(20,10),kind = 'line',label='The Average Revenue',grid='True')\n",
    "df_commercial.groupby('release_year').budget_adj.mean().plot(xlim=(1960,2015),figsize=(20,10),kind = 'line',label='The Average Budget',grid='True')\n",
    "plt.legend();"
   ]
  }
 ],
 "metadata": {
  "kernelspec": {
   "display_name": "Python 3",
   "language": "python",
   "name": "python3"
  },
  "language_info": {
   "codemirror_mode": {
    "name": "ipython",
    "version": 3
   },
   "file_extension": ".py",
   "mimetype": "text/x-python",
   "name": "python",
   "nbconvert_exporter": "python",
   "pygments_lexer": "ipython3",
   "version": "3.7.3"
  }
 },
 "nbformat": 4,
 "nbformat_minor": 2
}
